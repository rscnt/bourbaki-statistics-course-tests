{
  "nbformat": 4,
  "nbformat_minor": 0,
  "metadata": {
    "colab": {
      "name": "Raul Ascencio - Bourbaki Examen Teorico",
      "provenance": [],
      "collapsed_sections": []
    },
    "kernelspec": {
      "name": "python3",
      "display_name": "Python 3"
    }
  },
  "cells": [
    {
      "cell_type": "markdown",
      "metadata": {
        "id": "kSe5sbGzA3_i"
      },
      "source": [
        "Raul Alejandro Ascencio Trejo\n",
        "\n",
        "Correos: <rascencio@protonmail.com> <rascnt@gmail.com> <raul.ascencio@yandex.com>.\n",
        "\n",
        "Perfil en slack: \n",
        "- Member ID: U01BBT5JVE0\n",
        "- Username: @Raul Ascencio "
      ]
    },
    {
      "cell_type": "markdown",
      "metadata": {
        "id": "VcNR55Ev10KI"
      },
      "source": [
        "## 1)\n",
        "\n",
        "**Exercise 02.13.**\n",
        "\n",
        "Supongamos que tomamos 10 post-its y en cada uno escribimos alguna de las letras de la palabra MATEMÁTICO. Si doblamos cada uno de los post-its y los metemos en una urna, ¿cuál es el espacio de probabilidada sociado a esta experiencia? ¿qué probabilidad hay de obtener la palabra matemático al sacar los diez post-its de manera aleatoria?"
      ]
    },
    {
      "cell_type": "markdown",
      "metadata": {
        "id": "TMsfsrKm2WEd"
      },
      "source": [
        "**Solución:**\n",
        "\n",
        "- El espacio de probabilidada sociado a esta experiencia:\n",
        "\n",
        "A la pareja $(\\Omega, \\mathbb{P})$ se le conoce como un espacio de probabilidad.\n",
        "\n",
        "\n",
        "El espacio de de experiencia aleatoria es el conjunto devalores que puede tomar la experiencia como resultado :\n",
        "\n",
        " - si asumimos A diferente a  Á:\n",
        " $$\\Omega_1=\\{ M , A , T , E , Á  , C , I  ,O\\} $$\n",
        "\n",
        "\n",
        " - si asumimos A $ = $ Á:\n",
        " $$\\Omega_2=\\{ M , A , T , E , C , I  ,O\\} $$\n",
        "\n",
        " Tenemos que  el espacio muestral es de cardinalidad $ 10.$ ( MATEMÁTICO tiene 10 letras entonces tenemos 10 casos posibles)\n",
        "\n",
        "Definiendo la siguiente ley de probabilidad $\\mathbb{P}_{\\text {unif}}(A)=\\frac{i}{10}$ donde i es la\n",
        "cantidad de elementos en $A$.\n",
        "\n",
        "Asi el espacion de probabilidad :\n",
        "\n",
        " - si asumimos A diferente a  Á:\n",
        " $$(\\Omega_1, \\mathbb{P}) : \\{ (M , 1/5 ) , (A , 1/10) , (T ,1/5) , (E,1/10) , (Á , 1/10) , (C , 1/10) , (I,1/10) , (O,1/10) \\} $$\n",
        "\n",
        "\n",
        " - si asumimos A $ = $ Á:\n",
        "\n",
        " $$(\\Omega_2, \\mathbb{P}) : \\{ (M , 1/5 ) , (A , 2/10) , (T ,1/5) , (E,1/10)  , (C , 1/10) , (I,1/10) , (O,1/10) \\} $$\n",
        "\n"
      ]
    },
    {
      "cell_type": "markdown",
      "metadata": {
        "id": "l6HiZvCTmxhA"
      },
      "source": [
        "# 2)"
      ]
    },
    {
      "cell_type": "markdown",
      "metadata": {
        "id": "q45ddqafk9nN"
      },
      "source": [
        "**Exercise 00.5**\n",
        "\n",
        " Consideremos los tres casos posibles del ejercicio 00.1, en todos\n",
        "ellos calcular $\\mathbb{P}(A \\mid B)$, y   $\\mathbb{P}(B \\mid A)$\n",
        "\n",
        "\n",
        "**Solución**\n",
        "\n",
        "Del ejercicio 00.1.\n",
        " En la experiencia aleatoria de tirar dos dados, demostrar lo siguiente:\n",
        "\n",
        "### 1). \n",
        "Obtener un uno en el primer lanzamiento y un dos en el segundo son\n",
        "eventos aleatorios independientes: \n",
        "digamos que el evento A es \"obtener un uno en el primer lanzamiento\" $y$ B es el evento \"obtener un dos en el\n",
        "segundo\", entonces:\n",
        "\n",
        " $A=\\{(1,1),(1,2),(1,3),(1,4),(1,5),(1,6)\\},$\n",
        "$B=\\{(1,2),(2,2),(3,2),(4,2),(5,2),(6,2)\\}$\n",
        ", y  $A \\cap B=\\{(1,2)\\} .$\n",
        "\n",
        " Calculando las probabilidades obtenemos:\n",
        "\n",
        "\n",
        "  $\\mathbb{P}(A)=\\frac{6}{36}, \\mathbb{P}(B)=\\frac{6}{36}, \\mathbb{P}(A \\cap B)=\\frac{1}{36} .$\n",
        "\n",
        "Esto significa que $\\mathbb{P}(B) \\cdot \\mathbb{P}(B)= \\mathbb{P}(A \\cap B)$ y por tanto concluimos que ambos eventos son independientes.\n",
        "\n",
        "\n",
        "\n",
        "- Comencemos a calcular:\n",
        "\n",
        " $\\mathbb{P}(A \\mid B)=\\frac{P(A \\cap B)}{P(B)}=\\frac{1 / 36}{6 / 36}=1 / 6$\n",
        " \n",
        "\n",
        "$\\mathbb{P}(B \\mid A)=\\frac{P(A \\cap B)}{ P(A)}=\\frac{1 / 36}{6 / 36}=1 / 6 $\n",
        "\n",
        " En este caso las probabilidades que acabamos de calcular son las probabilidades de los siguientes eventos: \"si yo\n",
        "he obtenido un uno en el primero de mis lanzamientos, la probabilidad\n",
        "de obtener un dos en el segundo\" $y$ \"si yo obtuve un dos en el segundo\n",
        "lanzamiento, la probabilidad de haber obtenido un uno en el primer\n",
        "lanzamiento\".\n",
        "\n",
        "\n",
        "\n",
        "\n",
        "### 2).\n",
        "Obtener un número uno en el primer lanzamiento y que la suma de los\n",
        "dos dados sea mayor a ocho son eventos aleatorios dependientes.\n",
        "\n",
        "\n",
        "digamos que el evento A es \"obtener un uno en el primer lanzamiento\" $y$ B es el evento \"la suma de los\n",
        "dos dados sea mayor a ocho\", entonces:\n",
        "\n",
        " $A=\\{(1,1),(1,2),(1,3),(1,4),(1,5),(1,6)\\},$\n",
        "$B=\\{(3,6),(4,5),(4,6),(5,4),(5,5),(5,6),(6,6),(6,5),(6,4),(6,3)\\}$\n",
        "\n",
        ", y  $A \\cap B=\\{\\emptyset\\} .$\n",
        "\n",
        " Calculando las probabilidades obtenemos:\n",
        "\n",
        "\n",
        "  $\\mathbb{P}(A)=\\frac{6}{36}$   ,   $\\mathbb{P}(B)=\\frac{10}{36}$   , $ \\mathbb{P}(A \\cap B)= 0 .$\n",
        "\n",
        "Esto significa que $\\mathbb{P}(A) \\cdot \\mathbb{P}(B) \\neq \\mathbb{P}(A \\cap B)$ y por tanto concluimos que ambos eventos no son independientes.\n",
        "\n",
        "\n",
        "\n",
        "Intuitivamente esto es claro pues si sucede uno de los eventos  no puede suceder el otro.\n",
        "\n",
        "\n",
        "\n",
        "- Comencemos a calcular:\n",
        "\n",
        " $\\mathbb{P}(A \\mid B)=\\frac{P(A \\cap B)}{P(B)}=\\frac{0}{10 / 36}=0$\n",
        "\n",
        " \"si yo he obtenido un uno en el primero de mis lanzamientos, la probabilidad\n",
        "de que  la suma de los dos dados sea mayor a ocho al realizar al segundo lanzamiento\" \n",
        "\n",
        "$\\mathbb{P}(B \\mid A)=\\frac{P(A \\cap B)}{ P(A)}=\\frac{0}{6 / 36}=0 $\n",
        "\n",
        " \"Si yo he obtenido que  la suma de los dos dados es mayor a ocho al realizar al segundo lanzamiento, la probabilidad de haber obtenido un uno en el primer lanzamiento\".\n",
        "\n",
        "\n",
        "\n",
        "### 3).\n",
        "\n",
        "\n",
        "Obtener un número primo repetido y obtener un número par repetido\n",
        "son eventos aleatorios dependientes.\n",
        "\n",
        "**Solución 1**\n",
        "\n",
        "- Suponiendo que repetido se refiere a otener 2 veces un número que cumple las caracteristicas para pertenecer a A o B , sin ser necesariamente iguales , es decir sin ser exactamente el mismo número\n",
        "\n",
        "digamos que el evento A es \"Obtener un número primo repetido\" $y$ B es el evento \"obtener un número par repetido\", entonces:\n",
        "\n",
        " $A=\\{(2,2),(2,3),(2,5),(3,2),(3,3),(3,5),(2,5),(3,5),(5,5)\\},$\n",
        "\n",
        "$B=\\{(2,2),(2,4),(2,6),(4,2),(4,4),(4,6),(6,2),(6,4),(6,6)\\}$\n",
        "\n",
        ", y  $A \\cap B=\\{(2,2)\\} .$\n",
        "\n",
        " Calculando las probabilidades obtenemos:\n",
        "\n",
        "\n",
        "  $\\mathbb{P}(A)=\\frac{9}{36}$   ,   $\\mathbb{P}(B)=\\frac{9}{36}$   , $ \\mathbb{P}(A \\cap B)= \\frac{1}{36} .$\n",
        "\n",
        "Esto significa que $\\mathbb{P}(A) \\cdot \\mathbb{P}(B) \\neq \\mathbb{P}(A \\cap B)$ y por tanto concluimos que ambos eventos no son independientes.\n",
        "\n",
        "\n",
        "\n",
        "Intuitivamente esto es claro pues si sucede uno de los eventos disminuye la probabilidad de que pueda suceder el otro.\n",
        "\n",
        "\n",
        "\n",
        "- Comencemos a calcular:\n",
        "\n",
        " $\\mathbb{P}(A \\mid B)=\\frac{P(A \\cap B)}{P(B)}=\\frac{ 1/36}{9/36}=1/9$\n",
        "\n",
        " \"si yo he obtenido un número primo repetido en el primero de mis lanzamientos, la probabilidad\n",
        "de obtener un número par repetido al realizar al segundo lanzamiento\" \n",
        "\n",
        "$\\mathbb{P}(B \\mid A)=\\frac{P(A \\cap B)}{ P(A)}==\\frac{ 1/36}{9/36}=1/9 $\n",
        "\n",
        " \"Si yo he obtenido un número par repetido al realizar al segundo lanzamiento, la probabilidad de haber obtenidoun número primo repetido en el primer lanzamiento\".\n",
        "\n",
        "\n",
        "\n",
        "\n",
        "**Solución 2**\n",
        "\n",
        "- Suponiendo que repetido se refiere a otener 2 veces el mismo un número que cumple las caracteristicas para pertenecer a A o B ,  es decir siendeo  exactamente el mismo número\n",
        "\n",
        "digamos que el evento A es \"Obtener un número primo repetido\" $y$ B es el evento \"obtener un número par repetido\", entonces:\n",
        "\n",
        " $A=\\{(2,2),(3,3),(5,5)\\},$\n",
        "\n",
        "$B=\\{(2,2),(4,4),(6,6)\\}$\n",
        "\n",
        ", y  $A \\cap B=\\{(2,2)\\} .$\n",
        "\n",
        " Calculando las probabilidades obtenemos:\n",
        "\n",
        "\n",
        "  $\\mathbb{P}(A)=\\frac{3}{36}$   ,   $\\mathbb{P}(B)=\\frac{3}{36}$   , $ \\mathbb{P}(A \\cap B)= \\frac{1}{36} .$\n",
        "\n",
        "Esto significa que $\\mathbb{P}(A) \\cdot \\mathbb{P}(B) \\neq \\mathbb{P}(A \\cap B)$ y por tanto concluimos que ambos eventos no son independientes.\n",
        "\n",
        "\n",
        "\n",
        "Intuitivamente esto es claro pues si sucede uno de los eventos disminuye la probabilidad de que pueda suceder el otro.\n",
        "\n",
        "\n",
        "\n",
        "- Comencemos a calcular:\n",
        "\n",
        " $\\mathbb{P}(A \\mid B)=\\frac{P(A \\cap B)}{P(B)}=\\frac{ 1/36}{3/36}=1/3$\n",
        "\n",
        " \"si yo he obtenido un número primo repetido en el primero de mis lanzamientos, la probabilidad\n",
        "de obtener un número par repetido al realizar al segundo lanzamiento\" \n",
        "\n",
        "$\\mathbb{P}(B \\mid A)=\\frac{P(A \\cap B)}{ P(A)}=\\frac{ 1/36}{3/36}=1/3 $\n",
        "\n",
        " \"Si yo he obtenido un número par repetido al realizar al segundo lanzamiento, la probabilidad de haber obtenidoun número primo repetido en el primer lanzamiento\".\n",
        "\n"
      ]
    },
    {
      "cell_type": "markdown",
      "metadata": {
        "id": "mdDl3PpDABOZ"
      },
      "source": [
        "### 3)\n",
        "**Exercise 00.11.**\n",
        "\n",
        "Clasifiquemos los administradores de portafolios financierosen dos grupos, los bien informados y los mal informados. Supongamos que sabemos que con probabilidad igual a .8, si un administrador bien informado elige un activo financiero para su cliente, entonces el activo subirá de precio.\n",
        "\n",
        "Por el contrario la probabilidad de que eso ocurra si el administrador está mal informado es de .6.\n",
        " Supongamos que el 10 porciento de los administradores financieros están bien informados. \n",
        " La pregunta es la siguiente: un cliente eligeal azar a un administrador y le pide que compre un activo financiero, suponiendo que el activo financiero subió, ¿cuál es la probabilidad de que el administrador esté mal informado?\n",
        "\n",
        "\n",
        "**Solución:**\n",
        "\n",
        " Si $M$ es el evento: el valor del activo sube \n",
        "\n",
        " e $I$ es el evento:el administrador está bien informado.\n",
        " \n",
        "  Tenemos lo siguiente :\n",
        "$$\n",
        "\\mathbb{P}(M)=\\mathbb{P}_{I}(M) \\cdot \\mathbb{P}(I)+\\mathbb{P}_{I^{c}}(M) \\cdot \\mathbb{P}\\left(I^{c}\\right)\n",
        "$$"
      ]
    },
    {
      "cell_type": "markdown",
      "metadata": {
        "id": "l03b29JgoERx"
      },
      "source": [
        "\n",
        "- se sabe con probabalidad 0.8 que si $I$ entonces $M$ por tanto $\\mathbb{P}_{I}(M)=0.8$\n",
        "\n",
        "- el 10% de los alminitradores estan bien infromados entonces $\\mathbb{P}(I)=0.1$  y $\\mathbb{P}\\left(I^{c}\\right)=0.9$\n",
        "\n",
        "- $\\mathbb{P}_{I^{c}}(M)=0.6$\n",
        "\n",
        "sutituyendo:\n",
        "$$\n",
        "\\mathbb{P}(M)=0.8 \\cdot 0.1+0.6 \\cdot 0.9=0.62\n",
        "$$\n",
        "\n",
        "\n",
        "\n"
      ]
    },
    {
      "cell_type": "markdown",
      "metadata": {
        "id": "f7ayBSvSvDjo"
      },
      "source": [
        "$\\mathbb{P}(I^c \\mid M)=\\frac{P( M\\mid I^c)P(I^c)}{ P(M)}$\n",
        "\n",
        "$=\\frac{(0.6)(0.9)}{0.62}=0.69$"
      ]
    },
    {
      "cell_type": "markdown",
      "metadata": {
        "id": "s2-2yDFxq9sQ"
      },
      "source": [
        "4)"
      ]
    },
    {
      "cell_type": "markdown",
      "metadata": {
        "id": "LTAbUyisq_ob"
      },
      "source": [
        "Supongamos que deseamos segmentar a nuestros clientes en cinco clases distintas de acuerdo a tres rangos de compras: 10, 20, 30, 40 y 50. Sitenemos una base de datos de tamaño 1000, definir las variables aleatorias correspondientes utilizando dos distribuciones de nuestros clientes distintas. Calcular la esperanza y la varianza correspondiente."
      ]
    },
    {
      "cell_type": "markdown",
      "metadata": {
        "id": "ryd7wwW3rebK"
      },
      "source": [
        "**Solución:**\n",
        "\n",
        "\n"
      ]
    },
    {
      "cell_type": "markdown",
      "metadata": {
        "id": "AvLkbCRBF3Gq"
      },
      "source": [
        "Primero definimos los tres rangos de compras , dea cuerdo a las 5 Clases:\n",
        "\n",
        "---\n",
        "\n",
        "\n",
        "\n",
        "- 1) 10,20\n",
        "- 2) 40,30\n",
        "- 3) 50\n",
        "\n",
        "definimos la siguientes variable aleatoria :\n",
        " El espacio muestral, esto es, el conjunto de resultados elementales posibles asociado al experimento, es:\n",
        "$$\n",
        "\\Omega=\\{\\mathrm{10,20}, \\mathrm{30}, \\mathrm{40,50}\\}\n",
        "$$\n",
        "donde estos valores reprecentan los tres rangos de compras , deacuerdo a las 5 Clases. Podemos asignar entonces a cada suceso elemental del experimento un número que reprecente el rango al que pertenece.\n",
        "\n",
        " De este modo se definiría la variable aleatoria X como la función:\n",
        "$$\n",
        "X: \\Omega \\rightarrow \\mathbb{R}\n",
        "$$\n",
        "\n",
        "$$\\Omega \\rightarrow \\{1,2,3\\}$$\n",
        "dada por\n",
        "$$\n",
        "\\mathrm{40,50} \\rightarrow 3\n",
        "$$\n",
        "$$ \\mathrm{30} \\rightarrow 2$$\n",
        "$$\n",
        "\\mathrm{10,20} \\rightarrow 1\n",
        "$$\n",
        "\n",
        "El recorrido o rango de esta función, $\\mathrm{Rx}$, es el conjunto:\n",
        "\n",
        "$$\n",
        "R_{X}=\\{1,2,3\\}\n",
        "$$\n",
        "\n",
        "de la siguiente manera: $X(10)=X(20)=1, X(30)=2 ,X(40)=X(50)=3 $\n",
        "\n",
        "fromando asi los 3 rangos.\n",
        "\n",
        "Ahora deinimos el siguiente espacio de probabilidad:\n",
        "\n",
        "tal que $\\mathbb{P}(1)=\\frac{1}{4}, \\mathbb{P}(2)=\\frac{1}{2}, \\mathbb{P}(3)=\\frac{1}{4}$\n",
        "\n",
        "\n",
        "\n",
        "\n",
        "\n",
        "\n",
        "\n",
        "definimos el siguiente expacio de\n",
        "probabilidad $\\Omega=\\{a, b, c, d\\}, y$ tal que $\\mathbb{P}(a)=\\frac{p}{2}, \\mathbb{P}(b)=\\frac{p}{2}, \\mathbb{P}(c)=\\frac{1-p}{2}, \\mathbb{P}(d)=$\n",
        "\n",
        "\n",
        "\n",
        "\n",
        "\n"
      ]
    },
    {
      "cell_type": "markdown",
      "metadata": {
        "id": "jXiRkPrB1z29"
      },
      "source": [
        "5)"
      ]
    },
    {
      "cell_type": "markdown",
      "metadata": {
        "id": "YcUJRHsY1ytL"
      },
      "source": [
        "Enunciar en castellano (sin fórmulas) la ley de los grandes números ymencionar dos aplicaciones a la ciencia de datos."
      ]
    },
    {
      "cell_type": "markdown",
      "metadata": {
        "id": "mGOsmTnu05Js"
      },
      "source": [
        "\n",
        "**Solución:**\n",
        "\n",
        "La Ley de los grandes Números encuncia que  el comportamiento del promedio de una sucesión de variables aleatorias conforme aumenta su número de ensayos el promedio de esta muestra al azar de una población de gran tamaño tenderá a estar cerca de la media de la población completa.\n",
        "\n",
        "\n",
        " aplicacion:\n",
        " \n",
        " En ciencia de datos tenemos la aplicacion fundamental al hacer modelos de machine learning  podemos generalizar el valor de la estimacion promedio de un parametro atravez de una muestra grande de datos a toda la poblacional . es lo que nos permite atravez de una gran base de datos estimar parametros(para la media) y utilizarlos para la data de prueba , test y nuevas predicciones  "
      ]
    },
    {
      "cell_type": "markdown",
      "metadata": {
        "id": "oXdHKbgG2ndV"
      },
      "source": [
        "6)"
      ]
    },
    {
      "cell_type": "markdown",
      "metadata": {
        "id": "DYSIRNkB2GSf"
      },
      "source": [
        "Ei test de Pearson visto en clase spuede utilizarse para verificar la si\n",
        "guiente hipótesis?\n",
        "$$\n",
        "H_{0}: \\mathbb{P}=\\mathrm{N}\\left(0, \\sigma^{2}\\right)\n",
        "$$"
      ]
    },
    {
      "cell_type": "markdown",
      "metadata": {
        "id": "-RXklCpe3_bM"
      },
      "source": [
        "SI"
      ]
    },
    {
      "cell_type": "markdown",
      "metadata": {
        "id": "ZEJ62R2k2xE0"
      },
      "source": [
        "7)"
      ]
    },
    {
      "cell_type": "markdown",
      "metadata": {
        "id": "-HZaho6d21LB"
      },
      "source": [
        "En las hipótesis de las regresiones lineales, Naïve Bayes y LDA, ¿se incluye la covarianza cero entre nuestros ejemplos?"
      ]
    },
    {
      "cell_type": "markdown",
      "metadata": {
        "id": "nD82G3Sk4BYR"
      },
      "source": [
        "NO"
      ]
    }
  ]
}