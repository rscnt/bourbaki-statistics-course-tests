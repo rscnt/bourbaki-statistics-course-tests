{
  "nbformat": 4,
  "nbformat_minor": 0,
  "metadata": {
    "colab": {
      "name": "Raul Ascencio - Examen_estadística.ipynb",
      "provenance": [],
      "toc_visible": true
    },
    "kernelspec": {
      "name": "python3",
      "display_name": "Python 3"
    }
  },
  "cells": [
    {
      "cell_type": "code",
      "metadata": {
        "id": "j9aIqu65BBrZ"
      },
      "source": [
        "import pandas\n",
        "import numpy"
      ],
      "execution_count": null,
      "outputs": []
    },
    {
      "cell_type": "markdown",
      "metadata": {
        "id": "fdUSsKBULChV"
      },
      "source": [
        "# Independencia de variables aleatorias\n",
        "1. Genere la ley de probabilidad de las siguientes variables aleatorias:\n",
        "\n",
        "  - El número que puede salir en la [ruleta francesa](https://es.wikipedia.org/wiki/Ruleta#/media/Archivo:Roulette_frz.png) (sólo tienen un cero)\n",
        "  - El color que puede salir en la ruleta francesa\n",
        "\n",
        "2. Evalue si los siguientes eventos son dependientes o independientes\n",
        "  - A : obtener un numero impar,\n",
        "  - B : que sea color negro,\n",
        "\n",
        "3. Calcule la probabilidad condicional de obtener un número impar dado que salió el color negro P(A|B)\n",
        "\n",
        "4. Calcule la probabilidad condicional de que el número sea negro, dado que salio un impar P(A|B)\n",
        "\n"
      ]
    },
    {
      "cell_type": "markdown",
      "metadata": {
        "id": "iIx1w0C11wBr"
      },
      "source": [
        "## Solucion\n",
        "\n",
        "### Independencia de variables aleatorias\n",
        "1. Genere la ley de probabilidad de las siguientes variables aleatorias:\n",
        "\n",
        "  - El número que puede salir en la [ruleta francesa](https://es.wikipedia.org/wiki/Ruleta#/media/Archivo:Roulette_frz.png) (sólo tienen un cero)\n",
        "  - El color que puede salir en la ruleta francesa"
      ]
    },
    {
      "cell_type": "code",
      "metadata": {
        "id": "di-k_snkLAxI",
        "colab": {
          "base_uri": "https://localhost:8080/",
          "height": 90
        },
        "outputId": "8dc4ea36-1cef-47fc-b0da-fb625cfe8666"
      },
      "source": [
        "nfrech_roulette = set(list(range(0, 37)))\n",
        "\n",
        "red = ((range(1,10,2)),\n",
        "       (range(12,19,2)),\n",
        "       (range(19,28,2)),\n",
        "       (range(30,37,2)))\n",
        "\n",
        "red = set([nl for r in red for nl in list(r)])\n",
        "\n",
        "black = set(nfrech_roulette) - set(red)\n",
        "\n",
        "display(\"red\", red)\n",
        "display(\"black\", black)"
      ],
      "execution_count": null,
      "outputs": [
        {
          "output_type": "display_data",
          "data": {
            "application/vnd.google.colaboratory.intrinsic+json": {
              "type": "string"
            },
            "text/plain": [
              "'red'"
            ]
          },
          "metadata": {
            "tags": []
          }
        },
        {
          "output_type": "display_data",
          "data": {
            "text/plain": [
              "{1, 3, 5, 7, 9, 12, 14, 16, 18, 19, 21, 23, 25, 27, 30, 32, 34, 36}"
            ]
          },
          "metadata": {
            "tags": []
          }
        },
        {
          "output_type": "display_data",
          "data": {
            "application/vnd.google.colaboratory.intrinsic+json": {
              "type": "string"
            },
            "text/plain": [
              "'black'"
            ]
          },
          "metadata": {
            "tags": []
          }
        },
        {
          "output_type": "display_data",
          "data": {
            "text/plain": [
              "{0, 2, 4, 6, 8, 10, 11, 13, 15, 17, 20, 22, 24, 26, 28, 29, 31, 33, 35}"
            ]
          },
          "metadata": {
            "tags": []
          }
        }
      ]
    },
    {
      "cell_type": "markdown",
      "metadata": {
        "id": "34oxcKq091ut"
      },
      "source": [
        "2. Evalue si los siguientes eventos son dependientes o independientes\n",
        "\n",
        "    - A : obtener un numero impar,\n",
        "    - B : que sea color negro,\n",
        "\n"
      ]
    },
    {
      "cell_type": "code",
      "metadata": {
        "id": "dtdiaWhLNTR5",
        "colab": {
          "base_uri": "https://localhost:8080/",
          "height": 1000
        },
        "outputId": "cb56fc26-407b-4496-c954-d70620b51826"
      },
      "source": [
        "roulette = pandas.DataFrame({ 'number': list(nfrech_roulette), 'color': numpy.nan, 'prob': 1/37 })\n",
        "\n",
        "roulette.loc[red, 'color'] = 'red'\n",
        "roulette.loc[black, 'color'] = 'black'\n",
        "roulette.loc[0, 'color'] = 'green'\n",
        "\n",
        "roulette.set_index('number')\n",
        "display(roulette)"
      ],
      "execution_count": null,
      "outputs": [
        {
          "output_type": "display_data",
          "data": {
            "text/html": [
              "<div>\n",
              "<style scoped>\n",
              "    .dataframe tbody tr th:only-of-type {\n",
              "        vertical-align: middle;\n",
              "    }\n",
              "\n",
              "    .dataframe tbody tr th {\n",
              "        vertical-align: top;\n",
              "    }\n",
              "\n",
              "    .dataframe thead th {\n",
              "        text-align: right;\n",
              "    }\n",
              "</style>\n",
              "<table border=\"1\" class=\"dataframe\">\n",
              "  <thead>\n",
              "    <tr style=\"text-align: right;\">\n",
              "      <th></th>\n",
              "      <th>number</th>\n",
              "      <th>color</th>\n",
              "      <th>prob</th>\n",
              "    </tr>\n",
              "  </thead>\n",
              "  <tbody>\n",
              "    <tr>\n",
              "      <th>0</th>\n",
              "      <td>0</td>\n",
              "      <td>green</td>\n",
              "      <td>0.027027</td>\n",
              "    </tr>\n",
              "    <tr>\n",
              "      <th>1</th>\n",
              "      <td>1</td>\n",
              "      <td>red</td>\n",
              "      <td>0.027027</td>\n",
              "    </tr>\n",
              "    <tr>\n",
              "      <th>2</th>\n",
              "      <td>2</td>\n",
              "      <td>black</td>\n",
              "      <td>0.027027</td>\n",
              "    </tr>\n",
              "    <tr>\n",
              "      <th>3</th>\n",
              "      <td>3</td>\n",
              "      <td>red</td>\n",
              "      <td>0.027027</td>\n",
              "    </tr>\n",
              "    <tr>\n",
              "      <th>4</th>\n",
              "      <td>4</td>\n",
              "      <td>black</td>\n",
              "      <td>0.027027</td>\n",
              "    </tr>\n",
              "    <tr>\n",
              "      <th>5</th>\n",
              "      <td>5</td>\n",
              "      <td>red</td>\n",
              "      <td>0.027027</td>\n",
              "    </tr>\n",
              "    <tr>\n",
              "      <th>6</th>\n",
              "      <td>6</td>\n",
              "      <td>black</td>\n",
              "      <td>0.027027</td>\n",
              "    </tr>\n",
              "    <tr>\n",
              "      <th>7</th>\n",
              "      <td>7</td>\n",
              "      <td>red</td>\n",
              "      <td>0.027027</td>\n",
              "    </tr>\n",
              "    <tr>\n",
              "      <th>8</th>\n",
              "      <td>8</td>\n",
              "      <td>black</td>\n",
              "      <td>0.027027</td>\n",
              "    </tr>\n",
              "    <tr>\n",
              "      <th>9</th>\n",
              "      <td>9</td>\n",
              "      <td>red</td>\n",
              "      <td>0.027027</td>\n",
              "    </tr>\n",
              "    <tr>\n",
              "      <th>10</th>\n",
              "      <td>10</td>\n",
              "      <td>black</td>\n",
              "      <td>0.027027</td>\n",
              "    </tr>\n",
              "    <tr>\n",
              "      <th>11</th>\n",
              "      <td>11</td>\n",
              "      <td>black</td>\n",
              "      <td>0.027027</td>\n",
              "    </tr>\n",
              "    <tr>\n",
              "      <th>12</th>\n",
              "      <td>12</td>\n",
              "      <td>red</td>\n",
              "      <td>0.027027</td>\n",
              "    </tr>\n",
              "    <tr>\n",
              "      <th>13</th>\n",
              "      <td>13</td>\n",
              "      <td>black</td>\n",
              "      <td>0.027027</td>\n",
              "    </tr>\n",
              "    <tr>\n",
              "      <th>14</th>\n",
              "      <td>14</td>\n",
              "      <td>red</td>\n",
              "      <td>0.027027</td>\n",
              "    </tr>\n",
              "    <tr>\n",
              "      <th>15</th>\n",
              "      <td>15</td>\n",
              "      <td>black</td>\n",
              "      <td>0.027027</td>\n",
              "    </tr>\n",
              "    <tr>\n",
              "      <th>16</th>\n",
              "      <td>16</td>\n",
              "      <td>red</td>\n",
              "      <td>0.027027</td>\n",
              "    </tr>\n",
              "    <tr>\n",
              "      <th>17</th>\n",
              "      <td>17</td>\n",
              "      <td>black</td>\n",
              "      <td>0.027027</td>\n",
              "    </tr>\n",
              "    <tr>\n",
              "      <th>18</th>\n",
              "      <td>18</td>\n",
              "      <td>red</td>\n",
              "      <td>0.027027</td>\n",
              "    </tr>\n",
              "    <tr>\n",
              "      <th>19</th>\n",
              "      <td>19</td>\n",
              "      <td>red</td>\n",
              "      <td>0.027027</td>\n",
              "    </tr>\n",
              "    <tr>\n",
              "      <th>20</th>\n",
              "      <td>20</td>\n",
              "      <td>black</td>\n",
              "      <td>0.027027</td>\n",
              "    </tr>\n",
              "    <tr>\n",
              "      <th>21</th>\n",
              "      <td>21</td>\n",
              "      <td>red</td>\n",
              "      <td>0.027027</td>\n",
              "    </tr>\n",
              "    <tr>\n",
              "      <th>22</th>\n",
              "      <td>22</td>\n",
              "      <td>black</td>\n",
              "      <td>0.027027</td>\n",
              "    </tr>\n",
              "    <tr>\n",
              "      <th>23</th>\n",
              "      <td>23</td>\n",
              "      <td>red</td>\n",
              "      <td>0.027027</td>\n",
              "    </tr>\n",
              "    <tr>\n",
              "      <th>24</th>\n",
              "      <td>24</td>\n",
              "      <td>black</td>\n",
              "      <td>0.027027</td>\n",
              "    </tr>\n",
              "    <tr>\n",
              "      <th>25</th>\n",
              "      <td>25</td>\n",
              "      <td>red</td>\n",
              "      <td>0.027027</td>\n",
              "    </tr>\n",
              "    <tr>\n",
              "      <th>26</th>\n",
              "      <td>26</td>\n",
              "      <td>black</td>\n",
              "      <td>0.027027</td>\n",
              "    </tr>\n",
              "    <tr>\n",
              "      <th>27</th>\n",
              "      <td>27</td>\n",
              "      <td>red</td>\n",
              "      <td>0.027027</td>\n",
              "    </tr>\n",
              "    <tr>\n",
              "      <th>28</th>\n",
              "      <td>28</td>\n",
              "      <td>black</td>\n",
              "      <td>0.027027</td>\n",
              "    </tr>\n",
              "    <tr>\n",
              "      <th>29</th>\n",
              "      <td>29</td>\n",
              "      <td>black</td>\n",
              "      <td>0.027027</td>\n",
              "    </tr>\n",
              "    <tr>\n",
              "      <th>30</th>\n",
              "      <td>30</td>\n",
              "      <td>red</td>\n",
              "      <td>0.027027</td>\n",
              "    </tr>\n",
              "    <tr>\n",
              "      <th>31</th>\n",
              "      <td>31</td>\n",
              "      <td>black</td>\n",
              "      <td>0.027027</td>\n",
              "    </tr>\n",
              "    <tr>\n",
              "      <th>32</th>\n",
              "      <td>32</td>\n",
              "      <td>red</td>\n",
              "      <td>0.027027</td>\n",
              "    </tr>\n",
              "    <tr>\n",
              "      <th>33</th>\n",
              "      <td>33</td>\n",
              "      <td>black</td>\n",
              "      <td>0.027027</td>\n",
              "    </tr>\n",
              "    <tr>\n",
              "      <th>34</th>\n",
              "      <td>34</td>\n",
              "      <td>red</td>\n",
              "      <td>0.027027</td>\n",
              "    </tr>\n",
              "    <tr>\n",
              "      <th>35</th>\n",
              "      <td>35</td>\n",
              "      <td>black</td>\n",
              "      <td>0.027027</td>\n",
              "    </tr>\n",
              "    <tr>\n",
              "      <th>36</th>\n",
              "      <td>36</td>\n",
              "      <td>red</td>\n",
              "      <td>0.027027</td>\n",
              "    </tr>\n",
              "  </tbody>\n",
              "</table>\n",
              "</div>"
            ],
            "text/plain": [
              "    number  color      prob\n",
              "0        0  green  0.027027\n",
              "1        1    red  0.027027\n",
              "2        2  black  0.027027\n",
              "3        3    red  0.027027\n",
              "4        4  black  0.027027\n",
              "5        5    red  0.027027\n",
              "6        6  black  0.027027\n",
              "7        7    red  0.027027\n",
              "8        8  black  0.027027\n",
              "9        9    red  0.027027\n",
              "10      10  black  0.027027\n",
              "11      11  black  0.027027\n",
              "12      12    red  0.027027\n",
              "13      13  black  0.027027\n",
              "14      14    red  0.027027\n",
              "15      15  black  0.027027\n",
              "16      16    red  0.027027\n",
              "17      17  black  0.027027\n",
              "18      18    red  0.027027\n",
              "19      19    red  0.027027\n",
              "20      20  black  0.027027\n",
              "21      21    red  0.027027\n",
              "22      22  black  0.027027\n",
              "23      23    red  0.027027\n",
              "24      24  black  0.027027\n",
              "25      25    red  0.027027\n",
              "26      26  black  0.027027\n",
              "27      27    red  0.027027\n",
              "28      28  black  0.027027\n",
              "29      29  black  0.027027\n",
              "30      30    red  0.027027\n",
              "31      31  black  0.027027\n",
              "32      32    red  0.027027\n",
              "33      33  black  0.027027\n",
              "34      34    red  0.027027\n",
              "35      35  black  0.027027\n",
              "36      36    red  0.027027"
            ]
          },
          "metadata": {
            "tags": []
          }
        }
      ]
    },
    {
      "cell_type": "code",
      "metadata": {
        "id": "5E1X17DDNZr1"
      },
      "source": [
        "A = roulette['number'].isin(range(2, 37, 2))\n",
        "B = roulette['color'] == 'black'"
      ],
      "execution_count": null,
      "outputs": []
    },
    {
      "cell_type": "code",
      "metadata": {
        "id": "TZfQ6-BNNfcX",
        "colab": {
          "base_uri": "https://localhost:8080/",
          "height": 90
        },
        "outputId": "bb63760e-2912-4f6e-b6b0-601a2f836454"
      },
      "source": [
        "# Probabilidad P(B|A)\n",
        "\n",
        "p_A = roulette[A]['prob'].sum()\n",
        "p_B = roulette[A]['prob'].sum()\n",
        "p_AnB = roulette[A & B]['prob'].sum()\n",
        "\n",
        "display('A : obtener un numero impar', p_A, 'B : que sea color negro', p_B)"
      ],
      "execution_count": null,
      "outputs": [
        {
          "output_type": "display_data",
          "data": {
            "application/vnd.google.colaboratory.intrinsic+json": {
              "type": "string"
            },
            "text/plain": [
              "'A : obtener un numero impar'"
            ]
          },
          "metadata": {
            "tags": []
          }
        },
        {
          "output_type": "display_data",
          "data": {
            "text/plain": [
              "0.4864864864864865"
            ]
          },
          "metadata": {
            "tags": []
          }
        },
        {
          "output_type": "display_data",
          "data": {
            "application/vnd.google.colaboratory.intrinsic+json": {
              "type": "string"
            },
            "text/plain": [
              "'B : que sea color negro'"
            ]
          },
          "metadata": {
            "tags": []
          }
        },
        {
          "output_type": "display_data",
          "data": {
            "text/plain": [
              "0.4864864864864865"
            ]
          },
          "metadata": {
            "tags": []
          }
        }
      ]
    },
    {
      "cell_type": "code",
      "metadata": {
        "id": "6zr4U4_IE1N_"
      },
      "source": [
        "def test_independecy(pA, pB, p_AnB):\n",
        "  return round(pA*pB, 2) == round(p_AnB, 2)"
      ],
      "execution_count": null,
      "outputs": []
    },
    {
      "cell_type": "code",
      "metadata": {
        "colab": {
          "base_uri": "https://localhost:8080/",
          "height": 54
        },
        "id": "GfMsDUj8GTmR",
        "outputId": "34b1c878-06a2-40f3-c5cc-0f3782cfaf8e"
      },
      "source": [
        "display('Independiente?', test_independecy(p_A, p_B, p_AnB))"
      ],
      "execution_count": null,
      "outputs": [
        {
          "output_type": "display_data",
          "data": {
            "application/vnd.google.colaboratory.intrinsic+json": {
              "type": "string"
            },
            "text/plain": [
              "'Independiente?'"
            ]
          },
          "metadata": {
            "tags": []
          }
        },
        {
          "output_type": "display_data",
          "data": {
            "text/plain": [
              "False"
            ]
          },
          "metadata": {
            "tags": []
          }
        }
      ]
    },
    {
      "cell_type": "code",
      "metadata": {
        "id": "fFGYIf1pHMwC"
      },
      "source": [
        "def probabilidad_condicional(pA, pB, pAnB):\n",
        "  pA_B = round(pAnB / pB, 2)\n",
        "  pB_A = round(pAnB / pA, 2)\n",
        "  print('P(A):', round(pA,2))\n",
        "  print('P(B):', round(pB,2))\n",
        "  print('P(A|B):', pA_B)\n",
        "  print('P(B|A):', pB_A)\n",
        "  return pA_B, pB_A"
      ],
      "execution_count": null,
      "outputs": []
    },
    {
      "cell_type": "markdown",
      "metadata": {
        "id": "3wRWz3goIf4V"
      },
      "source": [
        "3. Calcule la probabilidad condicional de obtener un número impar dado que salió el color negro P(A|B)\n",
        "\n",
        "4. Calcule la probabilidad condicional de que el número sea negro, dado que salio un impar P(A|B)\n"
      ]
    },
    {
      "cell_type": "code",
      "metadata": {
        "colab": {
          "base_uri": "https://localhost:8080/"
        },
        "id": "bl9dFXA5HSW5",
        "outputId": "d26a584f-648f-4239-dcbf-d3032faf6ace"
      },
      "source": [
        "pA_B, pB_A = probabilidad_condicional(p_A, p_B, p_AnB)"
      ],
      "execution_count": null,
      "outputs": [
        {
          "output_type": "stream",
          "text": [
            "P(A): 0.49\n",
            "P(B): 0.49\n",
            "P(A|B): 0.56\n",
            "P(B|A): 0.56\n"
          ],
          "name": "stdout"
        }
      ]
    },
    {
      "cell_type": "markdown",
      "metadata": {
        "id": "ObDokxIM6lpw"
      },
      "source": [
        "# Espacio de probabilidad, varaiables aleatorias y ley de los grandes números\n",
        "\n",
        "Elegir un fenómeno aleatorio, para el que exista conocimiento sobre su distribución de probabilidad basados en estudios previos.\n",
        " * Especifique cuál es la variable aleatoria y grafique su espacio de probabilidad\n",
        " * Genere 5 muestra aleatoria con esa distribución, cada una de ellas con tamaño n=10, n=100, n=1000, n=5000, n =10000\n",
        " * Realice el paso anterior varias veces y describa sus observaciones"
      ]
    },
    {
      "cell_type": "markdown",
      "metadata": {
        "id": "wDhxH0FsYw9q"
      },
      "source": [
        "### Elegir un fenómeno aleatorio, para el que exista conocimiento sobre su distribución de probabilidad basados en estudios previos.\n",
        "\n",
        "\"El numero de paquetes entrantes por unidad de tiempo\" (eg. visitas a un sitio web)\n",
        "\n",
        "_Fuentes_:\n",
        "\n",
        "- https://www.comp.nus.edu.sg/~tbma/teaching/cs5229y11_past/10_Traffic_Modeling.pdf\n",
        "- https://www.cse.wustl.edu/~jain/cse567-06/ftp/traffic_models3/#Poisson%20Distribution%20Model\n",
        "- https://en.wikipedia.org/wiki/Traffic_generation_model#Poisson_traffic_model\n",
        "\n",
        "\n"
      ]
    },
    {
      "cell_type": "markdown",
      "metadata": {
        "id": "LHtEKAlZh0Rf"
      },
      "source": [
        "### Especifique cuál es la variable aleatoria y grafique su espacio de probabilidad:\n",
        "\n",
        "La variable aleatoria _X_ designa:\n",
        "\n",
        "_X_ = El numero de paquetes entrantes por minuto.\n",
        "\n",
        "La cual segun las fuentes, podria tener una distribucion de poisson."
      ]
    },
    {
      "cell_type": "code",
      "metadata": {
        "id": "3NmSQj9Y6hbI",
        "colab": {
          "base_uri": "https://localhost:8080/",
          "height": 146
        },
        "outputId": "97eef0f9-fc6f-4a15-a5d1-83ecee6e9f67"
      },
      "source": [
        "# Espacio de probabilidad de la variable elegida (¿qué fenómeno real representa la variable?)\n",
        "\n",
        "# numero de peticiones a un servidor por minuto, asumiendo que el promedio de peticiones por minuto es 3. \n",
        "\n",
        "from numpy.random import poisson\n",
        "\n",
        "# Genere 5 muestra aleatoria con esa distribución, cada una de ellas con tamaño n=10, n=100, n=1000, n=5000, n =10000\n",
        "\n",
        "plam = 3.0\n",
        "\n",
        "def network_request_samples(lam=plam):\n",
        "  return dict((n, poisson(lam=plam, size=n)) for n in (10, 100, 1_000, 5_000, 10_000, 50_000, 100_000))\n",
        "\n",
        "distribution_samples = network_request_samples(plam)\n",
        "\n",
        "# testing generated values\n",
        "display([( k, len(v) )  for k, v in distribution_samples.items()])"
      ],
      "execution_count": null,
      "outputs": [
        {
          "output_type": "display_data",
          "data": {
            "text/plain": [
              "[(10, 10),\n",
              " (100, 100),\n",
              " (1000, 1000),\n",
              " (5000, 5000),\n",
              " (10000, 10000),\n",
              " (50000, 50000),\n",
              " (100000, 100000)]"
            ]
          },
          "metadata": {
            "tags": []
          }
        }
      ]
    },
    {
      "cell_type": "markdown",
      "metadata": {
        "id": "-NauGrG-otKT"
      },
      "source": [
        "#### Graficando espacio de probabilidad"
      ]
    },
    {
      "cell_type": "code",
      "metadata": {
        "colab": {
          "base_uri": "https://localhost:8080/",
          "height": 467
        },
        "id": "h1Xyjs2FowGB",
        "outputId": "04cdddfd-7a88-4a26-c2e5-03a2a205fb48"
      },
      "source": [
        "from scipy import stats\n",
        "\n",
        "X = distribution_samples[10_000]\n",
        "display(\"X min\", numpy.min(X), \"X max\", numpy.max(X))\n",
        "k = sorted(set(X))\n",
        "display(\"k\", k)\n",
        "Pk = stats.poisson.pmf(k, plam)\n",
        "display(\"P min\", numpy.min(Pk), \"P max\", numpy.max(Pk))\n",
        "\n",
        "import matplotlib.pyplot as plt\n",
        "\n",
        "\n",
        "plt.plot(k, Pk, 'go')"
      ],
      "execution_count": null,
      "outputs": [
        {
          "output_type": "display_data",
          "data": {
            "application/vnd.google.colaboratory.intrinsic+json": {
              "type": "string"
            },
            "text/plain": [
              "'X min'"
            ]
          },
          "metadata": {
            "tags": []
          }
        },
        {
          "output_type": "display_data",
          "data": {
            "text/plain": [
              "0"
            ]
          },
          "metadata": {
            "tags": []
          }
        },
        {
          "output_type": "display_data",
          "data": {
            "application/vnd.google.colaboratory.intrinsic+json": {
              "type": "string"
            },
            "text/plain": [
              "'X max'"
            ]
          },
          "metadata": {
            "tags": []
          }
        },
        {
          "output_type": "display_data",
          "data": {
            "text/plain": [
              "12"
            ]
          },
          "metadata": {
            "tags": []
          }
        },
        {
          "output_type": "display_data",
          "data": {
            "application/vnd.google.colaboratory.intrinsic+json": {
              "type": "string"
            },
            "text/plain": [
              "'k'"
            ]
          },
          "metadata": {
            "tags": []
          }
        },
        {
          "output_type": "display_data",
          "data": {
            "text/plain": [
              "[0, 1, 2, 3, 4, 5, 6, 7, 8, 9, 10, 11, 12]"
            ]
          },
          "metadata": {
            "tags": []
          }
        },
        {
          "output_type": "display_data",
          "data": {
            "application/vnd.google.colaboratory.intrinsic+json": {
              "type": "string"
            },
            "text/plain": [
              "'P min'"
            ]
          },
          "metadata": {
            "tags": []
          }
        },
        {
          "output_type": "display_data",
          "data": {
            "text/plain": [
              "5.523758041828258e-05"
            ]
          },
          "metadata": {
            "tags": []
          }
        },
        {
          "output_type": "display_data",
          "data": {
            "application/vnd.google.colaboratory.intrinsic+json": {
              "type": "string"
            },
            "text/plain": [
              "'P max'"
            ]
          },
          "metadata": {
            "tags": []
          }
        },
        {
          "output_type": "display_data",
          "data": {
            "text/plain": [
              "0.22404180765538775"
            ]
          },
          "metadata": {
            "tags": []
          }
        },
        {
          "output_type": "execute_result",
          "data": {
            "text/plain": [
              "[<matplotlib.lines.Line2D at 0x7f13a8e984a8>]"
            ]
          },
          "metadata": {
            "tags": []
          },
          "execution_count": 144
        },
        {
          "output_type": "display_data",
          "data": {
            "image/png": "[encoded data removed]",
            "text/plain": [
              "<Figure size 432x288 with 1 Axes>"
            ]
          },
          "metadata": {
            "tags": [],
            "needs_background": "light"
          }
        }
      ]
    },
    {
      "cell_type": "markdown",
      "metadata": {
        "id": "zHsHdUr7uitj"
      },
      "source": [
        "#### Muestras aleatorias.\n",
        "\n",
        "Genere 5 muestra aleatoria con esa distribución, cada una de ellas con tamaño n=10, n=100, n=1000, n=5000, n =10000"
      ]
    },
    {
      "cell_type": "code",
      "metadata": {
        "colab": {
          "base_uri": "https://localhost:8080/",
          "height": 783
        },
        "id": "tTXfLnF_uoWU",
        "outputId": "d1578618-bfcc-4bbb-890f-cb0777d33b2e"
      },
      "source": [
        "import seaborn\n",
        "\n",
        "times = 5\n",
        "\n",
        "count_fig, count_ax = plt.subplots(times, len(network_request_samples(plam).keys()), sharex=False, sharey=False, figsize=(40, 10))\n",
        "dist_fig, dist_ax = plt.subplots(times, len(network_request_samples(plam).keys()), sharex=False, sharey=False, figsize=(40, 10))\n",
        "\n",
        "dist_fig.subplots_adjust(hspace=0.5)\n",
        "\n",
        "for n in range(times):\n",
        "  for i, nsample in enumerate(network_request_samples(plam).items()):\n",
        "    count_ax[n, i].set_title(f\"Vez {n + 1} & {nsample[0]} \")\n",
        "    nk = sorted(set(nsample[1]))\n",
        "    nPk = stats.poisson.pmf(nk, plam) \n",
        "    \n",
        "    dist_ax[n, i].set_title(f\"Vez { n + 1} Prob { nsample[0] }\")\n",
        "    dist_ax[n, i].plot(nk, nPk, 'go')\n",
        "    seaborn.countplot(x=nsample[1], ax=count_ax[n, i])\n",
        "    count_ax[n, i].label_outer()\n"
      ],
      "execution_count": null,
      "outputs": [
        {
          "output_type": "display_data",
          "data": {
            "image/png": "[encoded data removed]",
            "text/plain": [
              "<Figure size 2880x720 with 35 Axes>"
            ]
          },
          "metadata": {
            "tags": [],
            "needs_background": "light"
          }
        },
        {
          "output_type": "display_data",
          "data": {
            "image/png": "[encoded data removed]",
            "text/plain": [
              "<Figure size 2880x720 with 35 Axes>"
            ]
          },
          "metadata": {
            "tags": [],
            "needs_background": "light"
          }
        }
      ]
    },
    {
      "cell_type": "markdown",
      "metadata": {
        "id": "xfsQcY0sJ6Ep"
      },
      "source": [
        "###  Observaciones: \n",
        "\n",
        "Repitiendo el ejercicio se puede ver que la probialidad se mantiene estable, no importa el tamaño de la muestra siempre parece ser la misma."
      ]
    },
    {
      "cell_type": "markdown",
      "metadata": {
        "id": "cZqVmbZVACd-"
      },
      "source": [
        "# Teorema del limite central\n",
        "* Genere 500 muestras de tamaño 200\n",
        "* Grafique la distribución de al menos 3 muestras del punto 4 (punto 4?)\n",
        "* Calcule la media de cada una de las 500 muestras  y grafique su distribución (distribución de los promedios de la muestra)\n",
        "* Describa sus observaciones"
      ]
    },
    {
      "cell_type": "code",
      "metadata": {
        "id": "D0GsVBR5C2Ww"
      },
      "source": [
        "# 500 muestras de tamaño 200\n",
        "size = 200\n",
        "nsamples = 500\n",
        "\n",
        "samples = [ numpy.random.random_sample(size) for _i in range(nsamples) ]"
      ],
      "execution_count": null,
      "outputs": []
    },
    {
      "cell_type": "code",
      "metadata": {
        "id": "4FM0UvLLC3aa",
        "colab": {
          "base_uri": "https://localhost:8080/",
          "height": 414
        },
        "outputId": "09d9ba0a-79a9-465e-e5fc-46d830bb35f3"
      },
      "source": [
        "# Grafica de la distribución de al menos 3 muestras\n",
        "\n",
        "dist_3_fig, dist_3_ax = plt.subplots(3)\n",
        "\n",
        "dist_3_fig.subplots_adjust(hspace=0.5)\n",
        "\n",
        "\n",
        "seaborn.distplot(x=samples[0], ax=dist_3_ax[0])\n",
        "seaborn.distplot(x=samples[400], ax=dist_3_ax[1])\n",
        "seaborn.distplot(x=samples[150], ax=dist_3_ax[2])"
      ],
      "execution_count": null,
      "outputs": [
        {
          "output_type": "stream",
          "text": [
            "/usr/local/lib/python3.6/dist-packages/seaborn/distributions.py:2551: FutureWarning: `distplot` is a deprecated function and will be removed in a future version. Please adapt your code to use either `displot` (a figure-level function with similar flexibility) or `histplot` (an axes-level function for histograms).\n",
            "  warnings.warn(msg, FutureWarning)\n",
            "/usr/local/lib/python3.6/dist-packages/seaborn/distributions.py:2551: FutureWarning: `distplot` is a deprecated function and will be removed in a future version. Please adapt your code to use either `displot` (a figure-level function with similar flexibility) or `histplot` (an axes-level function for histograms).\n",
            "  warnings.warn(msg, FutureWarning)\n",
            "/usr/local/lib/python3.6/dist-packages/seaborn/distributions.py:2551: FutureWarning: `distplot` is a deprecated function and will be removed in a future version. Please adapt your code to use either `displot` (a figure-level function with similar flexibility) or `histplot` (an axes-level function for histograms).\n",
            "  warnings.warn(msg, FutureWarning)\n"
          ],
          "name": "stderr"
        },
        {
          "output_type": "execute_result",
          "data": {
            "text/plain": [
              "<matplotlib.axes._subplots.AxesSubplot at 0x7f1398349860>"
            ]
          },
          "metadata": {
            "tags": []
          },
          "execution_count": 193
        },
        {
          "output_type": "display_data",
          "data": {
            "image/png": "[encoded data removed]",
            "text/plain": [
              "<Figure size 432x288 with 3 Axes>"
            ]
          },
          "metadata": {
            "tags": [],
            "needs_background": "light"
          }
        }
      ]
    },
    {
      "cell_type": "code",
      "metadata": {
        "id": "DXQ3wAy-C3wi"
      },
      "source": [
        "# Calculo de la media de cada una de las 500 muestras"
      ],
      "execution_count": null,
      "outputs": []
    },
    {
      "cell_type": "code",
      "metadata": {
        "id": "wa0Y1hAPC4sq",
        "colab": {
          "base_uri": "https://localhost:8080/",
          "height": 340
        },
        "outputId": "60a9929e-8331-4939-eaef-486bf068c541"
      },
      "source": [
        "# Grafica de la distribución de los promedios de las 500 muestras\n",
        "samples_mean = (numpy.mean(i) for i in samples)\n",
        "\n",
        "seaborn.distplot(sample_means)"
      ],
      "execution_count": null,
      "outputs": [
        {
          "output_type": "stream",
          "text": [
            "/usr/local/lib/python3.6/dist-packages/seaborn/distributions.py:2551: FutureWarning: `distplot` is a deprecated function and will be removed in a future version. Please adapt your code to use either `displot` (a figure-level function with similar flexibility) or `histplot` (an axes-level function for histograms).\n",
            "  warnings.warn(msg, FutureWarning)\n"
          ],
          "name": "stderr"
        },
        {
          "output_type": "execute_result",
          "data": {
            "text/plain": [
              "<matplotlib.axes._subplots.AxesSubplot at 0x7f13994d0f60>"
            ]
          },
          "metadata": {
            "tags": []
          },
          "execution_count": 188
        },
        {
          "output_type": "display_data",
          "data": {
            "image/png": "[encoded data removed]",
            "text/plain": [
              "<Figure size 432x288 with 1 Axes>"
            ]
          },
          "metadata": {
            "tags": [],
            "needs_background": "light"
          }
        }
      ]
    },
    {
      "cell_type": "markdown",
      "metadata": {
        "id": "_5_x7lN7KDlJ"
      },
      "source": [
        "Observaciones:\n",
        "\n",
        "La suma de las medias de las variables generadas de manera aleatoria parece representar que sigue una distribucion gaussiana."
      ]
    },
    {
      "cell_type": "markdown",
      "metadata": {
        "id": "YIFWhoOmD1Uh"
      },
      "source": [
        "# Intervalos de confianza\n",
        "* Calclule el intervalo de confianza de la décima muestra para un nivel de confianza de 95%\n",
        "* Genera una muestra más pero ahora de tamaño 400\n",
        "* Calcule el intervalo de confianza para un nivel de confianza de 95%\n",
        "* Explique sus observaciones"
      ]
    },
    {
      "cell_type": "code",
      "metadata": {
        "id": "ojahS0o3H7TY",
        "colab": {
          "base_uri": "https://localhost:8080/",
          "height": 72
        },
        "outputId": "375a6caf-41e2-4817-8a8c-68516bf784b2"
      },
      "source": [
        "#intarválo de convianza\n",
        "def norm_confidence_interval(samples, alpha=0.95):\n",
        "  mean = numpy.mean(samples)\n",
        "  std = numpy.std(samples)\n",
        "  return stats.norm.interval(alpha, loc=mean, scale=std)\n",
        "\n",
        "\n",
        "display(norm_confidence_interval(samples[9], 0.95))\n",
        "display(norm_confidence_interval(samples[10], 0.95))\n",
        "display(norm_confidence_interval(samples[-1], 0.95))"
      ],
      "execution_count": null,
      "outputs": [
        {
          "output_type": "display_data",
          "data": {
            "text/plain": [
              "(-0.03484990516321118, 1.1135862567762889)"
            ]
          },
          "metadata": {
            "tags": []
          }
        },
        {
          "output_type": "display_data",
          "data": {
            "text/plain": [
              "(-0.0922516996259849, 1.0275994525381345)"
            ]
          },
          "metadata": {
            "tags": []
          }
        },
        {
          "output_type": "display_data",
          "data": {
            "text/plain": [
              "(-0.06197961410577135, 1.0087830575077426)"
            ]
          },
          "metadata": {
            "tags": []
          }
        }
      ]
    },
    {
      "cell_type": "code",
      "metadata": {
        "id": "LMH3-nqfJEto",
        "colab": {
          "base_uri": "https://localhost:8080/",
          "height": 35
        },
        "outputId": "c0658834-1e1b-460a-a658-2ccee4818a76"
      },
      "source": [
        "# generación de muestra de tamaño 400 y calculo del interválo de confianza\n",
        "\n",
        "cinterval_sample = numpy.random.random_sample(400)\n",
        "\n",
        "display(norm_confidence_interval(cinterval_sample, 0.95))"
      ],
      "execution_count": null,
      "outputs": [
        {
          "output_type": "display_data",
          "data": {
            "text/plain": [
              "(-0.09882614083582086, 1.0762799356662085)"
            ]
          },
          "metadata": {
            "tags": []
          }
        }
      ]
    },
    {
      "cell_type": "markdown",
      "metadata": {
        "id": "0dHRxGEYKFMu"
      },
      "source": [
        "Observaciones: \n",
        "\n",
        "- El ancho de los intervalos se mantinen a pesar del tamaño de la muestra."
      ]
    },
    {
      "cell_type": "markdown",
      "metadata": {
        "id": "KF4UfG64H-au"
      },
      "source": [
        "# Aplicación de los conceptos  \n",
        "\n",
        "* Explique por qué los residuos de una regresión lineal deberían ser normales.\n",
        "\n",
        "Toda la inferencia sobre los coeficientes & el ajuste de la regresion lineal se hace asumiendo una distribucion normal de los errores. \n",
        "\n",
        "Si no son normales no se puede asegurar que los elementos de la regresion lineal sigan las distribucion esperadas.\n",
        "\n",
        "\n",
        "* Explique que significa el p-value de un coeficiente en una regresión, cuál es la hipótesis nula que se pone a prueba y cuándo se rechaza o acepta la hipótesis.\n",
        "\n",
        "El p-value es el nivel de significacion del coeficiente, por tanto la importancia de ese \"feature\" que acompaña dicho coeficiente en la regresion. Si es significativa o no. \n",
        "\n",
        "Hipotesis nula \n",
        "\n",
        "$$H_0 : \\beta_i = 0 $$ \n",
        "\n",
        "Cuando se rechaza o acepta la hipotesis? Si p-value es menor que $\\alpha$ donde $\\alpha$ es el nivel de significacia, entonces se rechaza la hipotesis nula. Si el p-value es mayor que $\\alpha$ entonces no se rechaza la hipotesis nula.\n",
        "\n",
        "* ¿Que significa el intervalo de confianza de un coeficiente obenido de una regresión lineal?\n",
        "\n",
        "que el cofieciente tomara siempre los valores que se encuantran dentro de este intervalo.\n",
        "\n",
        "Si se toman muestras repetidas del mismo tamaño a los mismo valores del conjunto de datos & se forman intervalos de por ejemplo 95% entonces para cada uno de los coeficientes, el 95% de estos intervalos contendra el verdadero valor del coeficiente. \n",
        "\n",
        "* Explique las ventajas de utilizar el algoritmo Naive-Bayes para la clasificación de textos como spam y no spam, y las hipótesis en las que se basa.\n",
        "\n",
        "El algoritmo \"Naive-Bayes\" asume que cada una de las features son independientes & al combinar esta idea con tecnicas como \"Bag of words\"  por que en esta tecnica no importa el orden de las palabras por ejemplo. \n",
        "\n",
        "Con \"Naive-Bayes\" no es necesario hacer demasiado pre-procesamiento a un dataset generado como \"Bag-of-words\" que no capturan el contexto.\n",
        "\n",
        "\"Naive Bayes\" hace supuestos que hace que sea un model rapido y facil de implementar. (https://people.csail.mit.edu/jrennie/papers/icml03-nb.pdf).\n",
        "\n",
        "\n",
        "\"Naive Bayes\" asume una independecia condicional entre cada par de \"features\" (X) dado el valor de la variable de clase (y)."
      ]
    },
    {
      "cell_type": "code",
      "metadata": {
        "id": "br92kYOZmWua"
      },
      "source": [
        ""
      ],
      "execution_count": null,
      "outputs": []
    }
  ]
}